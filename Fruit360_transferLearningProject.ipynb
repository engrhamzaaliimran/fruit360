{
  "nbformat": 4,
  "nbformat_minor": 0,
  "metadata": {
    "colab": {
      "provenance": [],
      "gpuType": "T4"
    },
    "kernelspec": {
      "name": "python3",
      "display_name": "Python 3"
    },
    "language_info": {
      "name": "python"
    },
    "accelerator": "GPU"
  },
  "cells": [
    {
      "cell_type": "code",
      "execution_count": 1,
      "metadata": {
        "id": "Gk6E9-ndCghp"
      },
      "outputs": [],
      "source": [
        "# Clone the dataset\n",
        "# Making use of ImageDataGenerator => create batches and do the augmentation\n",
        "# Load the pretrained Model\n",
        "# Pop Some layers, add new layers\n",
        "# Train on new data\n",
        "# Evaluate the model"
      ]
    },
    {
      "cell_type": "code",
      "source": [
        "!git clone https://github.com/Horea94/Fruit-Images-Dataset.git"
      ],
      "metadata": {
        "colab": {
          "base_uri": "https://localhost:8080/"
        },
        "id": "tG6L1koYEcug",
        "outputId": "947d7ced-30fc-4154-ecff-f7c7762c5c7f"
      },
      "execution_count": 2,
      "outputs": [
        {
          "output_type": "stream",
          "name": "stdout",
          "text": [
            "Cloning into 'Fruit-Images-Dataset'...\n",
            "remote: Enumerating objects: 385858, done.\u001b[K\n",
            "remote: Counting objects: 100% (8693/8693), done.\u001b[K\n",
            "remote: Compressing objects: 100% (8659/8659), done.\u001b[K\n",
            "remote: Total 385858 (delta 37), reused 8688 (delta 34), pack-reused 377165\u001b[K\n",
            "Receiving objects: 100% (385858/385858), 2.10 GiB | 22.67 MiB/s, done.\n",
            "Resolving deltas: 100% (1197/1197), done.\n",
            "Updating files: 100% (90503/90503), done.\n"
          ]
        }
      ]
    },
    {
      "cell_type": "code",
      "source": [
        "!ls Fruit-Images-Dataset/Test"
      ],
      "metadata": {
        "colab": {
          "base_uri": "https://localhost:8080/"
        },
        "id": "_SKMVlYCFfbC",
        "outputId": "2a330014-7649-46a4-9f35-9131189f5aec"
      },
      "execution_count": 3,
      "outputs": [
        {
          "output_type": "stream",
          "name": "stdout",
          "text": [
            "'Apple Braeburn'       'Grape Blue'\t     'Pear Monster'\n",
            "'Apple Crimson Snow'   'Grapefruit Pink'     'Pear Red'\n",
            "'Apple Golden 1'       'Grapefruit White'    'Pear Stone'\n",
            "'Apple Golden 2'       'Grape Pink'\t     'Pear Williams'\n",
            "'Apple Golden 3'       'Grape White'\t      Pepino\n",
            "'Apple Granny Smith'   'Grape White 2'\t     'Pepper Green'\n",
            "'Apple Pink Lady'      'Grape White 3'\t     'Pepper Orange'\n",
            "'Apple Red 1'\t       'Grape White 4'\t     'Pepper Red'\n",
            "'Apple Red 2'\t        Guava\t\t     'Pepper Yellow'\n",
            "'Apple Red 3'\t        Hazelnut\t      Physalis\n",
            "'Apple Red Delicious'   Huckleberry\t     'Physalis with Husk'\n",
            "'Apple Red Yellow 1'    Kaki\t\t      Pineapple\n",
            "'Apple Red Yellow 2'    Kiwi\t\t     'Pineapple Mini'\n",
            " Apricot\t        Kohlrabi\t     'Pitahaya Red'\n",
            " Avocado\t        Kumquats\t      Plum\n",
            "'Avocado ripe'\t        Lemon\t\t     'Plum 2'\n",
            " Banana\t\t       'Lemon Meyer'\t     'Plum 3'\n",
            "'Banana Lady Finger'    Limes\t\t      Pomegranate\n",
            "'Banana Red'\t        Lychee\t\t     'Pomelo Sweetie'\n",
            " Beetroot\t        Mandarine\t     'Potato Red'\n",
            " Blueberry\t        Mango\t\t     'Potato Red Washed'\n",
            "'Cactus fruit'\t       'Mango Red'\t     'Potato Sweet'\n",
            "'Cantaloupe 1'\t        Mangostan\t     'Potato White'\n",
            "'Cantaloupe 2'\t        Maracuja\t      Quince\n",
            " Carambula\t       'Melon Piel de Sapo'   Rambutan\n",
            " Cauliflower\t        Mulberry\t      Raspberry\n",
            "'Cherry 1'\t        Nectarine\t      Redcurrant\n",
            "'Cherry 2'\t       'Nectarine Flat'       Salak\n",
            "'Cherry Rainier'       'Nut Forest'\t      Strawberry\n",
            "'Cherry Wax Black'     'Nut Pecan'\t     'Strawberry Wedge'\n",
            "'Cherry Wax Red'       'Onion Red'\t      Tamarillo\n",
            "'Cherry Wax Yellow'    'Onion Red Peeled'     Tangelo\n",
            " Chestnut\t       'Onion White'\t     'Tomato 1'\n",
            " Clementine\t        Orange\t\t     'Tomato 2'\n",
            " Cocos\t\t        Papaya\t\t     'Tomato 3'\n",
            " Corn\t\t       'Passion Fruit'\t     'Tomato 4'\n",
            "'Corn Husk'\t        Peach\t\t     'Tomato Cherry Red'\n",
            "'Cucumber Ripe'        'Peach 2'\t     'Tomato Heart'\n",
            "'Cucumber Ripe 2'      'Peach Flat'\t     'Tomato Maroon'\n",
            " Dates\t\t        Pear\t\t     'Tomato not Ripened'\n",
            " Eggplant\t       'Pear 2'\t\t     'Tomato Yellow'\n",
            " Fig\t\t       'Pear Abate'\t      Walnut\n",
            "'Ginger Root'\t       'Pear Forelle'\t      Watermelon\n",
            " Granadilla\t       'Pear Kaiser'\n"
          ]
        }
      ]
    },
    {
      "cell_type": "code",
      "source": [
        "from tensorflow.keras.preprocessing.image import ImageDataGenerator\n",
        "from tensorflow.keras.applications.mobilenet import MobileNet, preprocess_input\n",
        "from tensorflow.keras.models import Model\n",
        "from tensorflow.keras.layers import Input, Dense, Dropout, GlobalAveragePooling2D, Flatten, Convolution2D"
      ],
      "metadata": {
        "id": "Jtl5Pp23F0-p"
      },
      "execution_count": 4,
      "outputs": []
    },
    {
      "cell_type": "code",
      "source": [
        "import numpy as np\n",
        "import pandas as pd\n",
        "import matplotlib.pyplot as plt"
      ],
      "metadata": {
        "id": "U8smH_9MGni2"
      },
      "execution_count": 5,
      "outputs": []
    },
    {
      "cell_type": "code",
      "source": [
        "# Instantiating the ImageDataGenerator (preprocessing_function,rotation_range,width_shift_range,height_range,horizontal_rotation)\n",
        "train_datagen=ImageDataGenerator(preprocessing_function=preprocess_input,horizontal_flip=True,width_shift_range=0.2,height_shift_range=0.2,zoom_range=0.2)\n",
        "test_datagen=ImageDataGenerator(preprocessing_function=preprocess_input)"
      ],
      "metadata": {
        "id": "GP0-tfYHR3q6"
      },
      "execution_count": 6,
      "outputs": []
    },
    {
      "cell_type": "code",
      "source": [
        "# Parsing the data in the generator, dataset should be such processed that each class should be in seperate diractory\n",
        "train_generator = train_datagen.flow_from_directory(directory=\"Fruit-Images-Dataset/Training\",batch_size=64,class_mode='categorical')"
      ],
      "metadata": {
        "colab": {
          "base_uri": "https://localhost:8080/"
        },
        "id": "rQ8cnXEzSggj",
        "outputId": "e671ee82-2237-4075-aa9a-13e921235002"
      },
      "execution_count": 7,
      "outputs": [
        {
          "output_type": "stream",
          "name": "stdout",
          "text": [
            "Found 67692 images belonging to 131 classes.\n"
          ]
        }
      ]
    },
    {
      "cell_type": "code",
      "source": [
        "test_generator=test_datagen.flow_from_directory(directory=\"Fruit-Images-Dataset/Test\",batch_size=64,class_mode='categorical')"
      ],
      "metadata": {
        "colab": {
          "base_uri": "https://localhost:8080/"
        },
        "id": "-5KmAOYZS5PQ",
        "outputId": "1e8e74c4-2133-4ffa-e74e-04fc5a3cde19"
      },
      "execution_count": 8,
      "outputs": [
        {
          "output_type": "stream",
          "name": "stdout",
          "text": [
            "Found 22688 images belonging to 131 classes.\n"
          ]
        }
      ]
    },
    {
      "cell_type": "code",
      "source": [
        "base_model = MobileNet(weights='imagenet', include_top=False)\n",
        "\n",
        "# Add custom layers on top of the base_model\n",
        "x = base_model.output\n",
        "x = GlobalAveragePooling2D()(x)\n",
        "x = Dense(512, activation='relu')(x)\n",
        "x = Dropout(0.5)(x)\n",
        "\n",
        "# Output layer with the number of classes in your dataset\n",
        "num_classes = len(train_generator.class_indices)\n",
        "predictions = Dense(num_classes, activation='softmax')(x)\n",
        "\n",
        "# Create the custom model by specifying the input and output layers\n",
        "model = Model(inputs=base_model.input, outputs=predictions)"
      ],
      "metadata": {
        "colab": {
          "base_uri": "https://localhost:8080/"
        },
        "id": "cVukWicnYn0Z",
        "outputId": "57db0dbe-69a8-474c-bfb9-4df4518a5949"
      },
      "execution_count": 9,
      "outputs": [
        {
          "output_type": "stream",
          "name": "stderr",
          "text": [
            "WARNING:tensorflow:`input_shape` is undefined or non-square, or `rows` is not in [128, 160, 192, 224]. Weights for input shape (224, 224) will be loaded as the default.\n"
          ]
        },
        {
          "output_type": "stream",
          "name": "stdout",
          "text": [
            "Downloading data from https://storage.googleapis.com/tensorflow/keras-applications/mobilenet/mobilenet_1_0_224_tf_no_top.h5\n",
            "17225924/17225924 [==============================] - 1s 0us/step\n"
          ]
        }
      ]
    },
    {
      "cell_type": "code",
      "source": [
        "model.summary()"
      ],
      "metadata": {
        "colab": {
          "base_uri": "https://localhost:8080/"
        },
        "id": "PcfYJEr1YnsD",
        "outputId": "2c04f34e-a294-4e75-92e4-cc8800798ced"
      },
      "execution_count": 10,
      "outputs": [
        {
          "output_type": "stream",
          "name": "stdout",
          "text": [
            "Model: \"model\"\n",
            "_________________________________________________________________\n",
            " Layer (type)                Output Shape              Param #   \n",
            "=================================================================\n",
            " input_1 (InputLayer)        [(None, None, None, 3)]   0         \n",
            "                                                                 \n",
            " conv1 (Conv2D)              (None, None, None, 32)    864       \n",
            "                                                                 \n",
            " conv1_bn (BatchNormalizatio  (None, None, None, 32)   128       \n",
            " n)                                                              \n",
            "                                                                 \n",
            " conv1_relu (ReLU)           (None, None, None, 32)    0         \n",
            "                                                                 \n",
            " conv_dw_1 (DepthwiseConv2D)  (None, None, None, 32)   288       \n",
            "                                                                 \n",
            " conv_dw_1_bn (BatchNormaliz  (None, None, None, 32)   128       \n",
            " ation)                                                          \n",
            "                                                                 \n",
            " conv_dw_1_relu (ReLU)       (None, None, None, 32)    0         \n",
            "                                                                 \n",
            " conv_pw_1 (Conv2D)          (None, None, None, 64)    2048      \n",
            "                                                                 \n",
            " conv_pw_1_bn (BatchNormaliz  (None, None, None, 64)   256       \n",
            " ation)                                                          \n",
            "                                                                 \n",
            " conv_pw_1_relu (ReLU)       (None, None, None, 64)    0         \n",
            "                                                                 \n",
            " conv_pad_2 (ZeroPadding2D)  (None, None, None, 64)    0         \n",
            "                                                                 \n",
            " conv_dw_2 (DepthwiseConv2D)  (None, None, None, 64)   576       \n",
            "                                                                 \n",
            " conv_dw_2_bn (BatchNormaliz  (None, None, None, 64)   256       \n",
            " ation)                                                          \n",
            "                                                                 \n",
            " conv_dw_2_relu (ReLU)       (None, None, None, 64)    0         \n",
            "                                                                 \n",
            " conv_pw_2 (Conv2D)          (None, None, None, 128)   8192      \n",
            "                                                                 \n",
            " conv_pw_2_bn (BatchNormaliz  (None, None, None, 128)  512       \n",
            " ation)                                                          \n",
            "                                                                 \n",
            " conv_pw_2_relu (ReLU)       (None, None, None, 128)   0         \n",
            "                                                                 \n",
            " conv_dw_3 (DepthwiseConv2D)  (None, None, None, 128)  1152      \n",
            "                                                                 \n",
            " conv_dw_3_bn (BatchNormaliz  (None, None, None, 128)  512       \n",
            " ation)                                                          \n",
            "                                                                 \n",
            " conv_dw_3_relu (ReLU)       (None, None, None, 128)   0         \n",
            "                                                                 \n",
            " conv_pw_3 (Conv2D)          (None, None, None, 128)   16384     \n",
            "                                                                 \n",
            " conv_pw_3_bn (BatchNormaliz  (None, None, None, 128)  512       \n",
            " ation)                                                          \n",
            "                                                                 \n",
            " conv_pw_3_relu (ReLU)       (None, None, None, 128)   0         \n",
            "                                                                 \n",
            " conv_pad_4 (ZeroPadding2D)  (None, None, None, 128)   0         \n",
            "                                                                 \n",
            " conv_dw_4 (DepthwiseConv2D)  (None, None, None, 128)  1152      \n",
            "                                                                 \n",
            " conv_dw_4_bn (BatchNormaliz  (None, None, None, 128)  512       \n",
            " ation)                                                          \n",
            "                                                                 \n",
            " conv_dw_4_relu (ReLU)       (None, None, None, 128)   0         \n",
            "                                                                 \n",
            " conv_pw_4 (Conv2D)          (None, None, None, 256)   32768     \n",
            "                                                                 \n",
            " conv_pw_4_bn (BatchNormaliz  (None, None, None, 256)  1024      \n",
            " ation)                                                          \n",
            "                                                                 \n",
            " conv_pw_4_relu (ReLU)       (None, None, None, 256)   0         \n",
            "                                                                 \n",
            " conv_dw_5 (DepthwiseConv2D)  (None, None, None, 256)  2304      \n",
            "                                                                 \n",
            " conv_dw_5_bn (BatchNormaliz  (None, None, None, 256)  1024      \n",
            " ation)                                                          \n",
            "                                                                 \n",
            " conv_dw_5_relu (ReLU)       (None, None, None, 256)   0         \n",
            "                                                                 \n",
            " conv_pw_5 (Conv2D)          (None, None, None, 256)   65536     \n",
            "                                                                 \n",
            " conv_pw_5_bn (BatchNormaliz  (None, None, None, 256)  1024      \n",
            " ation)                                                          \n",
            "                                                                 \n",
            " conv_pw_5_relu (ReLU)       (None, None, None, 256)   0         \n",
            "                                                                 \n",
            " conv_pad_6 (ZeroPadding2D)  (None, None, None, 256)   0         \n",
            "                                                                 \n",
            " conv_dw_6 (DepthwiseConv2D)  (None, None, None, 256)  2304      \n",
            "                                                                 \n",
            " conv_dw_6_bn (BatchNormaliz  (None, None, None, 256)  1024      \n",
            " ation)                                                          \n",
            "                                                                 \n",
            " conv_dw_6_relu (ReLU)       (None, None, None, 256)   0         \n",
            "                                                                 \n",
            " conv_pw_6 (Conv2D)          (None, None, None, 512)   131072    \n",
            "                                                                 \n",
            " conv_pw_6_bn (BatchNormaliz  (None, None, None, 512)  2048      \n",
            " ation)                                                          \n",
            "                                                                 \n",
            " conv_pw_6_relu (ReLU)       (None, None, None, 512)   0         \n",
            "                                                                 \n",
            " conv_dw_7 (DepthwiseConv2D)  (None, None, None, 512)  4608      \n",
            "                                                                 \n",
            " conv_dw_7_bn (BatchNormaliz  (None, None, None, 512)  2048      \n",
            " ation)                                                          \n",
            "                                                                 \n",
            " conv_dw_7_relu (ReLU)       (None, None, None, 512)   0         \n",
            "                                                                 \n",
            " conv_pw_7 (Conv2D)          (None, None, None, 512)   262144    \n",
            "                                                                 \n",
            " conv_pw_7_bn (BatchNormaliz  (None, None, None, 512)  2048      \n",
            " ation)                                                          \n",
            "                                                                 \n",
            " conv_pw_7_relu (ReLU)       (None, None, None, 512)   0         \n",
            "                                                                 \n",
            " conv_dw_8 (DepthwiseConv2D)  (None, None, None, 512)  4608      \n",
            "                                                                 \n",
            " conv_dw_8_bn (BatchNormaliz  (None, None, None, 512)  2048      \n",
            " ation)                                                          \n",
            "                                                                 \n",
            " conv_dw_8_relu (ReLU)       (None, None, None, 512)   0         \n",
            "                                                                 \n",
            " conv_pw_8 (Conv2D)          (None, None, None, 512)   262144    \n",
            "                                                                 \n",
            " conv_pw_8_bn (BatchNormaliz  (None, None, None, 512)  2048      \n",
            " ation)                                                          \n",
            "                                                                 \n",
            " conv_pw_8_relu (ReLU)       (None, None, None, 512)   0         \n",
            "                                                                 \n",
            " conv_dw_9 (DepthwiseConv2D)  (None, None, None, 512)  4608      \n",
            "                                                                 \n",
            " conv_dw_9_bn (BatchNormaliz  (None, None, None, 512)  2048      \n",
            " ation)                                                          \n",
            "                                                                 \n",
            " conv_dw_9_relu (ReLU)       (None, None, None, 512)   0         \n",
            "                                                                 \n",
            " conv_pw_9 (Conv2D)          (None, None, None, 512)   262144    \n",
            "                                                                 \n",
            " conv_pw_9_bn (BatchNormaliz  (None, None, None, 512)  2048      \n",
            " ation)                                                          \n",
            "                                                                 \n",
            " conv_pw_9_relu (ReLU)       (None, None, None, 512)   0         \n",
            "                                                                 \n",
            " conv_dw_10 (DepthwiseConv2D  (None, None, None, 512)  4608      \n",
            " )                                                               \n",
            "                                                                 \n",
            " conv_dw_10_bn (BatchNormali  (None, None, None, 512)  2048      \n",
            " zation)                                                         \n",
            "                                                                 \n",
            " conv_dw_10_relu (ReLU)      (None, None, None, 512)   0         \n",
            "                                                                 \n",
            " conv_pw_10 (Conv2D)         (None, None, None, 512)   262144    \n",
            "                                                                 \n",
            " conv_pw_10_bn (BatchNormali  (None, None, None, 512)  2048      \n",
            " zation)                                                         \n",
            "                                                                 \n",
            " conv_pw_10_relu (ReLU)      (None, None, None, 512)   0         \n",
            "                                                                 \n",
            " conv_dw_11 (DepthwiseConv2D  (None, None, None, 512)  4608      \n",
            " )                                                               \n",
            "                                                                 \n",
            " conv_dw_11_bn (BatchNormali  (None, None, None, 512)  2048      \n",
            " zation)                                                         \n",
            "                                                                 \n",
            " conv_dw_11_relu (ReLU)      (None, None, None, 512)   0         \n",
            "                                                                 \n",
            " conv_pw_11 (Conv2D)         (None, None, None, 512)   262144    \n",
            "                                                                 \n",
            " conv_pw_11_bn (BatchNormali  (None, None, None, 512)  2048      \n",
            " zation)                                                         \n",
            "                                                                 \n",
            " conv_pw_11_relu (ReLU)      (None, None, None, 512)   0         \n",
            "                                                                 \n",
            " conv_pad_12 (ZeroPadding2D)  (None, None, None, 512)  0         \n",
            "                                                                 \n",
            " conv_dw_12 (DepthwiseConv2D  (None, None, None, 512)  4608      \n",
            " )                                                               \n",
            "                                                                 \n",
            " conv_dw_12_bn (BatchNormali  (None, None, None, 512)  2048      \n",
            " zation)                                                         \n",
            "                                                                 \n",
            " conv_dw_12_relu (ReLU)      (None, None, None, 512)   0         \n",
            "                                                                 \n",
            " conv_pw_12 (Conv2D)         (None, None, None, 1024)  524288    \n",
            "                                                                 \n",
            " conv_pw_12_bn (BatchNormali  (None, None, None, 1024)  4096     \n",
            " zation)                                                         \n",
            "                                                                 \n",
            " conv_pw_12_relu (ReLU)      (None, None, None, 1024)  0         \n",
            "                                                                 \n",
            " conv_dw_13 (DepthwiseConv2D  (None, None, None, 1024)  9216     \n",
            " )                                                               \n",
            "                                                                 \n",
            " conv_dw_13_bn (BatchNormali  (None, None, None, 1024)  4096     \n",
            " zation)                                                         \n",
            "                                                                 \n",
            " conv_dw_13_relu (ReLU)      (None, None, None, 1024)  0         \n",
            "                                                                 \n",
            " conv_pw_13 (Conv2D)         (None, None, None, 1024)  1048576   \n",
            "                                                                 \n",
            " conv_pw_13_bn (BatchNormali  (None, None, None, 1024)  4096     \n",
            " zation)                                                         \n",
            "                                                                 \n",
            " conv_pw_13_relu (ReLU)      (None, None, None, 1024)  0         \n",
            "                                                                 \n",
            " global_average_pooling2d (G  (None, 1024)             0         \n",
            " lobalAveragePooling2D)                                          \n",
            "                                                                 \n",
            " dense (Dense)               (None, 512)               524800    \n",
            "                                                                 \n",
            " dropout (Dropout)           (None, 512)               0         \n",
            "                                                                 \n",
            " dense_1 (Dense)             (None, 131)               67203     \n",
            "                                                                 \n",
            "=================================================================\n",
            "Total params: 3,820,867\n",
            "Trainable params: 3,798,979\n",
            "Non-trainable params: 21,888\n",
            "_________________________________________________________________\n"
          ]
        }
      ]
    },
    {
      "cell_type": "code",
      "source": [
        "# Optional: Freeze the layers of MobileNet so that they are not re-trained during the transfer learning process\n",
        "for layer in base_model.layers:\n",
        "    layer.trainable = False\n",
        "\n",
        "# Compile the model with an optimizer, loss, and metrics\n",
        "model.compile(optimizer='adam', loss='categorical_crossentropy', metrics=['accuracy'])\n",
        "\n",
        "# Train the model with your data\n",
        "epochs = 3  # You can adjust the number of epochs based on the dataset size and convergence\n",
        "model.fit(\n",
        "    train_generator,\n",
        "    epochs=epochs,\n",
        ")\n"
      ],
      "metadata": {
        "colab": {
          "base_uri": "https://localhost:8080/"
        },
        "id": "9XYE6H_1bFs-",
        "outputId": "ce3490b9-1d34-462a-9830-43796538f6c9"
      },
      "execution_count": 11,
      "outputs": [
        {
          "output_type": "stream",
          "name": "stdout",
          "text": [
            "Epoch 1/3\n",
            "1058/1058 [==============================] - 1145s 1s/step - loss: 0.6898 - accuracy: 0.8283\n",
            "Epoch 2/3\n",
            "1058/1058 [==============================] - 1112s 1s/step - loss: 0.1024 - accuracy: 0.9697\n",
            "Epoch 3/3\n",
            "1058/1058 [==============================] - 1107s 1s/step - loss: 0.0769 - accuracy: 0.9754\n"
          ]
        },
        {
          "output_type": "execute_result",
          "data": {
            "text/plain": [
              "<keras.callbacks.History at 0x79e52b9fb4c0>"
            ]
          },
          "metadata": {},
          "execution_count": 11
        }
      ]
    },
    {
      "cell_type": "code",
      "source": [
        "kevaluation = model.evaluate(test_generator)"
      ],
      "metadata": {
        "id": "4gdgzo_lfiI3",
        "colab": {
          "base_uri": "https://localhost:8080/",
          "height": 261
        },
        "outputId": "4ea7b195-35b9-40f6-dd9e-336b177b248c"
      },
      "execution_count": 13,
      "outputs": [
        {
          "output_type": "stream",
          "name": "stdout",
          "text": [
            "355/355 [==============================] - 65s 182ms/step - loss: 0.0931 - accuracy: 0.9730\n"
          ]
        },
        {
          "output_type": "error",
          "ename": "NameError",
          "evalue": "ignored",
          "traceback": [
            "\u001b[0;31m---------------------------------------------------------------------------\u001b[0m",
            "\u001b[0;31mNameError\u001b[0m                                 Traceback (most recent call last)",
            "\u001b[0;32m<ipython-input-13-0d5209504b32>\u001b[0m in \u001b[0;36m<cell line: 4>\u001b[0;34m()\u001b[0m\n\u001b[1;32m      2\u001b[0m \u001b[0;34m\u001b[0m\u001b[0m\n\u001b[1;32m      3\u001b[0m \u001b[0;31m# The evaluation result will be a list containing the loss and metrics values\u001b[0m\u001b[0;34m\u001b[0m\u001b[0;34m\u001b[0m\u001b[0m\n\u001b[0;32m----> 4\u001b[0;31m \u001b[0mloss\u001b[0m \u001b[0;34m=\u001b[0m \u001b[0mevaluation\u001b[0m\u001b[0;34m[\u001b[0m\u001b[0;36m0\u001b[0m\u001b[0;34m]\u001b[0m\u001b[0;34m\u001b[0m\u001b[0;34m\u001b[0m\u001b[0m\n\u001b[0m\u001b[1;32m      5\u001b[0m \u001b[0maccuracy\u001b[0m \u001b[0;34m=\u001b[0m \u001b[0mevaluation\u001b[0m\u001b[0;34m[\u001b[0m\u001b[0;36m1\u001b[0m\u001b[0;34m]\u001b[0m\u001b[0;34m\u001b[0m\u001b[0;34m\u001b[0m\u001b[0m\n\u001b[1;32m      6\u001b[0m \u001b[0;34m\u001b[0m\u001b[0m\n",
            "\u001b[0;31mNameError\u001b[0m: name 'evaluation' is not defined"
          ]
        }
      ]
    },
    {
      "cell_type": "code",
      "source": [
        "# The evaluation result will be a list containing the loss and metrics values\n",
        "loss = kevaluation[0]\n",
        "accuracy = kevaluation[1]\n",
        "\n",
        "print(f\"Test Loss: {loss:.4f}, Test Accuracy: {accuracy:.4f}\")"
      ],
      "metadata": {
        "colab": {
          "base_uri": "https://localhost:8080/"
        },
        "id": "tBwTAuayKBDX",
        "outputId": "33beacb5-43c2-4ae6-eeb3-bdcec6393a07"
      },
      "execution_count": 14,
      "outputs": [
        {
          "output_type": "stream",
          "name": "stdout",
          "text": [
            "Test Loss: 0.0931, Test Accuracy: 0.9730\n"
          ]
        }
      ]
    }
  ]
}